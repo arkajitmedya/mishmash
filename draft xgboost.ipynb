{
 "cells": [
  {
   "cell_type": "markdown",
   "metadata": {},
   "source": [
    "## Importing libraries and data set"
   ]
  },
  {
   "cell_type": "code",
   "execution_count": 1,
   "metadata": {},
   "outputs": [],
   "source": [
    "import numpy as np, pandas as pd\n",
    "import matplotlib.pyplot as plt\n",
    "import seaborn as sns"
   ]
  },
  {
   "cell_type": "code",
   "execution_count": 2,
   "metadata": {},
   "outputs": [],
   "source": [
    "import numpy as np \n",
    "import pandas as pd \n",
    "import sklearn\n",
    "import matplotlib.pyplot as plt\n",
    "import seaborn as sns\n",
    "\n",
    "from sklearn.model_selection import train_test_split\n",
    "from sklearn.model_selection import KFold\n",
    "from sklearn.model_selection import GridSearchCV\n",
    "from sklearn.model_selection import RandomizedSearchCV\n",
    "from sklearn.model_selection import cross_val_score\n",
    "from sklearn.preprocessing import LabelEncoder\n",
    "from sklearn.tree import DecisionTreeClassifier\n",
    "from sklearn.ensemble import AdaBoostClassifier\n",
    "from sklearn.ensemble import GradientBoostingClassifier\n",
    "from sklearn import metrics\n",
    "\n",
    "import xgboost as xgb\n",
    "from xgboost import XGBClassifier\n",
    "from xgboost import plot_importance\n",
    "import gc # for deleting unused variables\n",
    "%matplotlib inline\n",
    "\n",
    "import os\n",
    "import warnings\n",
    "warnings.filterwarnings('ignore')"
   ]
  },
  {
   "cell_type": "code",
   "execution_count": 3,
   "metadata": {},
   "outputs": [],
   "source": [
    "import warnings\n",
    "warnings.filterwarnings('ignore')"
   ]
  },
  {
   "cell_type": "code",
   "execution_count": 4,
   "metadata": {},
   "outputs": [],
   "source": [
    "pd.set_option('display.max_rows', 500)\n",
    "pd.set_option('display.max_columns', 500)\n",
    "pd.set_option('display.width', 1000)"
   ]
  },
  {
   "cell_type": "code",
   "execution_count": 5,
   "metadata": {},
   "outputs": [],
   "source": [
    "#importing data set\n",
    "df_1 = pd.read_csv('Training-Data-Sets - NEWDATA.csv')"
   ]
  },
  {
   "cell_type": "code",
   "execution_count": 6,
   "metadata": {},
   "outputs": [
    {
     "data": {
      "text/html": [
       "<div>\n",
       "<style scoped>\n",
       "    .dataframe tbody tr th:only-of-type {\n",
       "        vertical-align: middle;\n",
       "    }\n",
       "\n",
       "    .dataframe tbody tr th {\n",
       "        vertical-align: top;\n",
       "    }\n",
       "\n",
       "    .dataframe thead th {\n",
       "        text-align: right;\n",
       "    }\n",
       "</style>\n",
       "<table border=\"1\" class=\"dataframe\">\n",
       "  <thead>\n",
       "    <tr style=\"text-align: right;\">\n",
       "      <th></th>\n",
       "      <th>s.no</th>\n",
       "      <th>EQ</th>\n",
       "      <th>Social_Search_Impressions</th>\n",
       "      <th>Social_Search_Working_cost</th>\n",
       "      <th>Digital_Impressions</th>\n",
       "      <th>Digital_Working_cost</th>\n",
       "      <th>Print_Impressions.Ads40</th>\n",
       "      <th>Print_Working_Cost.Ads50</th>\n",
       "      <th>OOH_Impressions</th>\n",
       "      <th>OOH_Working_Cost</th>\n",
       "      <th>SOS_pct</th>\n",
       "      <th>Digital_Impressions_pct</th>\n",
       "      <th>CCFOT</th>\n",
       "      <th>Median_Temp</th>\n",
       "      <th>Median_Rainfall</th>\n",
       "      <th>Fuel_Price</th>\n",
       "      <th>Inflation</th>\n",
       "      <th>Trade_Invest</th>\n",
       "      <th>Brand_Equity</th>\n",
       "      <th>Avg_EQ_Price</th>\n",
       "      <th>Any_Promo_pct_ACV</th>\n",
       "      <th>Any_Feat_pct_ACV</th>\n",
       "      <th>Any_Disp_pct_ACV</th>\n",
       "      <th>EQ_Base_Price</th>\n",
       "      <th>Est_ACV_Selling</th>\n",
       "      <th>pct_ACV</th>\n",
       "      <th>Avg_no_of_Items</th>\n",
       "      <th>pct_PromoMarketDollars_Category</th>\n",
       "      <th>RPI_Category</th>\n",
       "      <th>Magazine_Impressions_pct</th>\n",
       "      <th>TV_GRP</th>\n",
       "      <th>Competitor1_RPI</th>\n",
       "      <th>Competitor2_RPI</th>\n",
       "      <th>Competitor3_RPI</th>\n",
       "      <th>Competitor4_RPI</th>\n",
       "      <th>EQ_Category</th>\n",
       "      <th>EQ_Subcategory</th>\n",
       "      <th>pct_PromoMarketDollars_Subcategory</th>\n",
       "      <th>RPI_Subcategory</th>\n",
       "    </tr>\n",
       "  </thead>\n",
       "  <tbody>\n",
       "    <tr>\n",
       "      <td>0</td>\n",
       "      <td>1</td>\n",
       "      <td>718.458667</td>\n",
       "      <td>22256928</td>\n",
       "      <td>56812</td>\n",
       "      <td>7724107</td>\n",
       "      <td>238700</td>\n",
       "      <td>151438</td>\n",
       "      <td>1044</td>\n",
       "      <td>112229070</td>\n",
       "      <td>2133614</td>\n",
       "      <td>5</td>\n",
       "      <td>11</td>\n",
       "      <td>62</td>\n",
       "      <td>55</td>\n",
       "      <td>0.49298</td>\n",
       "      <td>8.069</td>\n",
       "      <td>0.067591</td>\n",
       "      <td>7708</td>\n",
       "      <td>42.77</td>\n",
       "      <td>43.09</td>\n",
       "      <td>13.663</td>\n",
       "      <td>5.25</td>\n",
       "      <td>1.580</td>\n",
       "      <td>1.679</td>\n",
       "      <td>446172630</td>\n",
       "      <td>20.58</td>\n",
       "      <td>2.8135</td>\n",
       "      <td>0.19960</td>\n",
       "      <td>36.223</td>\n",
       "      <td>54.17</td>\n",
       "      <td>16.46</td>\n",
       "      <td>105.71</td>\n",
       "      <td>36.13</td>\n",
       "      <td>46.36</td>\n",
       "      <td>71.83</td>\n",
       "      <td>5420048</td>\n",
       "      <td>475559</td>\n",
       "      <td>0.3766</td>\n",
       "      <td>45.77</td>\n",
       "    </tr>\n",
       "    <tr>\n",
       "      <td>1</td>\n",
       "      <td>2</td>\n",
       "      <td>25.521137</td>\n",
       "      <td>4239408</td>\n",
       "      <td>105695</td>\n",
       "      <td>5844288</td>\n",
       "      <td>188902</td>\n",
       "      <td>264008</td>\n",
       "      <td>113582</td>\n",
       "      <td>284597324</td>\n",
       "      <td>1719318</td>\n",
       "      <td>38</td>\n",
       "      <td>14</td>\n",
       "      <td>59</td>\n",
       "      <td>61</td>\n",
       "      <td>0.07811</td>\n",
       "      <td>9.328</td>\n",
       "      <td>0.046174</td>\n",
       "      <td>6693</td>\n",
       "      <td>42.84</td>\n",
       "      <td>44.26</td>\n",
       "      <td>9.632</td>\n",
       "      <td>1.87</td>\n",
       "      <td>0.806</td>\n",
       "      <td>1.654</td>\n",
       "      <td>856199835</td>\n",
       "      <td>26.53</td>\n",
       "      <td>2.3588</td>\n",
       "      <td>0.29390</td>\n",
       "      <td>43.028</td>\n",
       "      <td>65.79</td>\n",
       "      <td>15.64</td>\n",
       "      <td>111.79</td>\n",
       "      <td>43.31</td>\n",
       "      <td>47.58</td>\n",
       "      <td>67.90</td>\n",
       "      <td>12155631</td>\n",
       "      <td>371540</td>\n",
       "      <td>0.2515</td>\n",
       "      <td>35.02</td>\n",
       "    </tr>\n",
       "    <tr>\n",
       "      <td>2</td>\n",
       "      <td>3</td>\n",
       "      <td>268.288044</td>\n",
       "      <td>6708500</td>\n",
       "      <td>87686</td>\n",
       "      <td>13008485</td>\n",
       "      <td>19704</td>\n",
       "      <td>150505</td>\n",
       "      <td>38501</td>\n",
       "      <td>807781054</td>\n",
       "      <td>1569740</td>\n",
       "      <td>9</td>\n",
       "      <td>33</td>\n",
       "      <td>51</td>\n",
       "      <td>33</td>\n",
       "      <td>0.94863</td>\n",
       "      <td>9.553</td>\n",
       "      <td>0.026979</td>\n",
       "      <td>2699</td>\n",
       "      <td>42.95</td>\n",
       "      <td>48.33</td>\n",
       "      <td>14.728</td>\n",
       "      <td>5.64</td>\n",
       "      <td>3.026</td>\n",
       "      <td>1.620</td>\n",
       "      <td>503553502</td>\n",
       "      <td>14.92</td>\n",
       "      <td>2.8399</td>\n",
       "      <td>0.31483</td>\n",
       "      <td>42.031</td>\n",
       "      <td>45.08</td>\n",
       "      <td>23.91</td>\n",
       "      <td>110.15</td>\n",
       "      <td>38.26</td>\n",
       "      <td>49.26</td>\n",
       "      <td>72.70</td>\n",
       "      <td>11939870</td>\n",
       "      <td>225984</td>\n",
       "      <td>0.3679</td>\n",
       "      <td>46.22</td>\n",
       "    </tr>\n",
       "    <tr>\n",
       "      <td>3</td>\n",
       "      <td>4</td>\n",
       "      <td>209.071599</td>\n",
       "      <td>36835247</td>\n",
       "      <td>70791</td>\n",
       "      <td>2520814</td>\n",
       "      <td>200111</td>\n",
       "      <td>253458</td>\n",
       "      <td>53719</td>\n",
       "      <td>667441334</td>\n",
       "      <td>922723</td>\n",
       "      <td>9</td>\n",
       "      <td>43</td>\n",
       "      <td>56</td>\n",
       "      <td>51</td>\n",
       "      <td>0.70916</td>\n",
       "      <td>7.838</td>\n",
       "      <td>0.106558</td>\n",
       "      <td>4898</td>\n",
       "      <td>43.53</td>\n",
       "      <td>59.10</td>\n",
       "      <td>0.465</td>\n",
       "      <td>2.86</td>\n",
       "      <td>1.006</td>\n",
       "      <td>1.620</td>\n",
       "      <td>463383476</td>\n",
       "      <td>28.92</td>\n",
       "      <td>2.7889</td>\n",
       "      <td>0.07673</td>\n",
       "      <td>41.377</td>\n",
       "      <td>75.24</td>\n",
       "      <td>13.06</td>\n",
       "      <td>116.74</td>\n",
       "      <td>39.37</td>\n",
       "      <td>44.21</td>\n",
       "      <td>73.01</td>\n",
       "      <td>7045541</td>\n",
       "      <td>551342</td>\n",
       "      <td>0.0504</td>\n",
       "      <td>38.10</td>\n",
       "    </tr>\n",
       "    <tr>\n",
       "      <td>4</td>\n",
       "      <td>5</td>\n",
       "      <td>3482.169185</td>\n",
       "      <td>23693467</td>\n",
       "      <td>75610</td>\n",
       "      <td>9276779</td>\n",
       "      <td>65532</td>\n",
       "      <td>278877</td>\n",
       "      <td>95178</td>\n",
       "      <td>74045467</td>\n",
       "      <td>1834970</td>\n",
       "      <td>26</td>\n",
       "      <td>22</td>\n",
       "      <td>48</td>\n",
       "      <td>54</td>\n",
       "      <td>0.96547</td>\n",
       "      <td>8.085</td>\n",
       "      <td>0.129135</td>\n",
       "      <td>8678</td>\n",
       "      <td>43.83</td>\n",
       "      <td>48.50</td>\n",
       "      <td>9.217</td>\n",
       "      <td>4.28</td>\n",
       "      <td>3.681</td>\n",
       "      <td>1.434</td>\n",
       "      <td>692252839</td>\n",
       "      <td>36.12</td>\n",
       "      <td>2.8071</td>\n",
       "      <td>0.36388</td>\n",
       "      <td>38.153</td>\n",
       "      <td>56.85</td>\n",
       "      <td>40.72</td>\n",
       "      <td>115.18</td>\n",
       "      <td>36.85</td>\n",
       "      <td>45.46</td>\n",
       "      <td>75.84</td>\n",
       "      <td>11488805</td>\n",
       "      <td>254143</td>\n",
       "      <td>0.2219</td>\n",
       "      <td>39.16</td>\n",
       "    </tr>\n",
       "  </tbody>\n",
       "</table>\n",
       "</div>"
      ],
      "text/plain": [
       "   s.no           EQ  Social_Search_Impressions  Social_Search_Working_cost  Digital_Impressions  Digital_Working_cost  Print_Impressions.Ads40  Print_Working_Cost.Ads50  OOH_Impressions  OOH_Working_Cost  SOS_pct  Digital_Impressions_pct  CCFOT  Median_Temp  Median_Rainfall  Fuel_Price  Inflation  Trade_Invest  Brand_Equity  Avg_EQ_Price  Any_Promo_pct_ACV  Any_Feat_pct_ACV  Any_Disp_pct_ACV  EQ_Base_Price  Est_ACV_Selling  pct_ACV  Avg_no_of_Items  pct_PromoMarketDollars_Category  RPI_Category  Magazine_Impressions_pct  TV_GRP  Competitor1_RPI  Competitor2_RPI  Competitor3_RPI  Competitor4_RPI  EQ_Category  EQ_Subcategory  pct_PromoMarketDollars_Subcategory  RPI_Subcategory\n",
       "0     1   718.458667                   22256928                       56812              7724107                238700                   151438                      1044        112229070           2133614        5                       11     62           55          0.49298       8.069   0.067591          7708         42.77         43.09             13.663              5.25             1.580          1.679        446172630    20.58           2.8135                          0.19960        36.223                     54.17   16.46           105.71            36.13            46.36            71.83      5420048          475559                              0.3766            45.77\n",
       "1     2    25.521137                    4239408                      105695              5844288                188902                   264008                    113582        284597324           1719318       38                       14     59           61          0.07811       9.328   0.046174          6693         42.84         44.26              9.632              1.87             0.806          1.654        856199835    26.53           2.3588                          0.29390        43.028                     65.79   15.64           111.79            43.31            47.58            67.90     12155631          371540                              0.2515            35.02\n",
       "2     3   268.288044                    6708500                       87686             13008485                 19704                   150505                     38501        807781054           1569740        9                       33     51           33          0.94863       9.553   0.026979          2699         42.95         48.33             14.728              5.64             3.026          1.620        503553502    14.92           2.8399                          0.31483        42.031                     45.08   23.91           110.15            38.26            49.26            72.70     11939870          225984                              0.3679            46.22\n",
       "3     4   209.071599                   36835247                       70791              2520814                200111                   253458                     53719        667441334            922723        9                       43     56           51          0.70916       7.838   0.106558          4898         43.53         59.10              0.465              2.86             1.006          1.620        463383476    28.92           2.7889                          0.07673        41.377                     75.24   13.06           116.74            39.37            44.21            73.01      7045541          551342                              0.0504            38.10\n",
       "4     5  3482.169185                   23693467                       75610              9276779                 65532                   278877                     95178         74045467           1834970       26                       22     48           54          0.96547       8.085   0.129135          8678         43.83         48.50              9.217              4.28             3.681          1.434        692252839    36.12           2.8071                          0.36388        38.153                     56.85   40.72           115.18            36.85            45.46            75.84     11488805          254143                              0.2219            39.16"
      ]
     },
     "execution_count": 6,
     "metadata": {},
     "output_type": "execute_result"
    }
   ],
   "source": [
    "df_1.head()"
   ]
  },
  {
   "cell_type": "code",
   "execution_count": 7,
   "metadata": {},
   "outputs": [
    {
     "data": {
      "text/plain": [
       "(12000, 39)"
      ]
     },
     "execution_count": 7,
     "metadata": {},
     "output_type": "execute_result"
    }
   ],
   "source": [
    "df_1.shape"
   ]
  },
  {
   "cell_type": "code",
   "execution_count": 8,
   "metadata": {
    "scrolled": true
   },
   "outputs": [
    {
     "data": {
      "text/plain": [
       "s.no                                  0\n",
       "EQ                                    0\n",
       "Social_Search_Impressions             0\n",
       "Social_Search_Working_cost            0\n",
       "Digital_Impressions                   0\n",
       "Digital_Working_cost                  0\n",
       "Print_Impressions.Ads40               0\n",
       "Print_Working_Cost.Ads50              0\n",
       "OOH_Impressions                       0\n",
       "OOH_Working_Cost                      0\n",
       "SOS_pct                               0\n",
       "Digital_Impressions_pct               0\n",
       "CCFOT                                 0\n",
       "Median_Temp                           0\n",
       "Median_Rainfall                       0\n",
       "Fuel_Price                            0\n",
       "Inflation                             0\n",
       "Trade_Invest                          0\n",
       "Brand_Equity                          0\n",
       "Avg_EQ_Price                          0\n",
       "Any_Promo_pct_ACV                     0\n",
       "Any_Feat_pct_ACV                      0\n",
       "Any_Disp_pct_ACV                      0\n",
       "EQ_Base_Price                         0\n",
       "Est_ACV_Selling                       0\n",
       "pct_ACV                               0\n",
       "Avg_no_of_Items                       0\n",
       "pct_PromoMarketDollars_Category       0\n",
       "RPI_Category                          0\n",
       "Magazine_Impressions_pct              0\n",
       "TV_GRP                                0\n",
       "Competitor1_RPI                       0\n",
       "Competitor2_RPI                       0\n",
       "Competitor3_RPI                       0\n",
       "Competitor4_RPI                       0\n",
       "EQ_Category                           0\n",
       "EQ_Subcategory                        0\n",
       "pct_PromoMarketDollars_Subcategory    0\n",
       "RPI_Subcategory                       0\n",
       "dtype: int64"
      ]
     },
     "execution_count": 8,
     "metadata": {},
     "output_type": "execute_result"
    }
   ],
   "source": [
    "df_1.isna().sum()"
   ]
  },
  {
   "cell_type": "markdown",
   "metadata": {},
   "source": [
    "- the data has no null value"
   ]
  },
  {
   "cell_type": "markdown",
   "metadata": {},
   "source": [
    "## EDA"
   ]
  },
  {
   "cell_type": "code",
   "execution_count": null,
   "metadata": {},
   "outputs": [],
   "source": [
    "# correlation heat map\n",
    "plt.figure(figsize=(14,10))\n",
    "sns.heatmap(df_1.corr(), annot=False,cmap='YlOrRd')\n",
    "plt.show()"
   ]
  },
  {
   "cell_type": "markdown",
   "metadata": {},
   "source": [
    "- it can be seen from the correlation heatmap that the variables are mostly independent of each other\n",
    "- So, there is no need for variable elemination or PCA as of now"
   ]
  },
  {
   "cell_type": "markdown",
   "metadata": {},
   "source": [
    "Now , let us see the distribution of EQ (dependent variable)"
   ]
  },
  {
   "cell_type": "code",
   "execution_count": null,
   "metadata": {},
   "outputs": [],
   "source": [
    "plt.figure(figsize=(14,10))\n",
    "sns.distplot(df_1['EQ'])\n",
    "plt.show()"
   ]
  },
  {
   "cell_type": "markdown",
   "metadata": {},
   "source": [
    "- most of the sales values are near the lower region"
   ]
  },
  {
   "cell_type": "markdown",
   "metadata": {},
   "source": [
    "## Outlier treatment"
   ]
  },
  {
   "cell_type": "code",
   "execution_count": null,
   "metadata": {
    "scrolled": false
   },
   "outputs": [],
   "source": [
    "cols=df_1.columns\n",
    "cols=cols.drop(['EQ','s.no'])\n",
    "dataFrame = df_1\n",
    "fig = plt.figure(figsize=(14,100))\n",
    "\n",
    "for i in range(0,len(cols)):\n",
    "    plt.subplot(40, 2, i+1)\n",
    "    sns.scatterplot(x=cols[i],y='EQ',legend='full',data=dataFrame)"
   ]
  },
  {
   "cell_type": "markdown",
   "metadata": {},
   "source": [
    "- from this we can not identify any outlier\n",
    "- but let us check once more with some other method"
   ]
  },
  {
   "cell_type": "code",
   "execution_count": null,
   "metadata": {},
   "outputs": [],
   "source": [
    "# box plot\n",
    "def box_plot(df):\n",
    "#Function to plot the distribution plot of the numeric variable list\n",
    "    var_list = list(df.columns)\n",
    "    plt.figure(figsize=(20, 4*len(var_list)//4))\n",
    "    for var in var_list:\n",
    "        plt.subplot(len(var_list)//4+1,4,var_list.index(var)+1)\n",
    "        sns.boxplot(df[var])\n",
    "    plt.show()\n",
    "    \n",
    "box_plot(df_1)"
   ]
  },
  {
   "cell_type": "markdown",
   "metadata": {},
   "source": [
    "- now we can conclude that there are no outliers, se we do not need to perform outlier treatment"
   ]
  },
  {
   "cell_type": "markdown",
   "metadata": {},
   "source": [
    "## Train test split"
   ]
  },
  {
   "cell_type": "code",
   "execution_count": null,
   "metadata": {},
   "outputs": [],
   "source": [
    "# dlicing the data set into X and y\n",
    "y = df_1.pop('EQ')\n",
    "X = df_1.copy()"
   ]
  },
  {
   "cell_type": "code",
   "execution_count": null,
   "metadata": {},
   "outputs": [],
   "source": [
    "X = X.drop(['s.no'],axis=1)\n",
    "X.head()"
   ]
  },
  {
   "cell_type": "markdown",
   "metadata": {},
   "source": [
    "from sklearn.preprocessing import StandardScaler\n",
    "scaler = StandardScaler()\n",
    "cols = list(X.columns)\n",
    "X[cols] = scaler.fit_transform(X[cols])\n",
    "X.head()"
   ]
  },
  {
   "cell_type": "code",
   "execution_count": null,
   "metadata": {},
   "outputs": [],
   "source": [
    "from sklearn.model_selection import train_test_split"
   ]
  },
  {
   "cell_type": "code",
   "execution_count": null,
   "metadata": {},
   "outputs": [],
   "source": [
    "# Splitting the data into train and test\n",
    "X_train, X_test, y_train, y_test = train_test_split(X, y, train_size=0.75, test_size=0.25, random_state=100)"
   ]
  },
  {
   "cell_type": "markdown",
   "metadata": {},
   "source": [
    "## XG Boost"
   ]
  },
  {
   "cell_type": "code",
   "execution_count": null,
   "metadata": {},
   "outputs": [],
   "source": [
    "import xgboost\n",
    "classifier=xgboost.XGBRegressor()"
   ]
  },
  {
   "cell_type": "code",
   "execution_count": null,
   "metadata": {},
   "outputs": [],
   "source": [
    "import xgboost\n",
    "regressor=xgboost.XGBRegressor()"
   ]
  },
  {
   "cell_type": "code",
   "execution_count": null,
   "metadata": {},
   "outputs": [],
   "source": [
    "booster=['gbtree','gblinear']\n",
    "base_score=[0.25,0.5,0.75,1]"
   ]
  },
  {
   "cell_type": "code",
   "execution_count": null,
   "metadata": {},
   "outputs": [],
   "source": [
    "## Hyper Parameter Optimization\n",
    "\n",
    "\n",
    "n_estimators = [100, 500, 900, 1100, 1500]\n",
    "max_depth = [2, 3, 5, 10, 15]\n",
    "booster=['gbtree','gblinear']\n",
    "learning_rate=[0.05,0.1,0.15,0.20]\n",
    "min_child_weight=[1,2,3,4]\n",
    "\n",
    "# Define the grid of hyperparameters to search\n",
    "hyperparameter_grid = {\n",
    "    'n_estimators': n_estimators,\n",
    "    'max_depth':max_depth,\n",
    "    'learning_rate':learning_rate,\n",
    "    'min_child_weight':min_child_weight,\n",
    "    'booster':booster,\n",
    "    'base_score':base_score\n",
    "    }"
   ]
  },
  {
   "cell_type": "code",
   "execution_count": null,
   "metadata": {},
   "outputs": [],
   "source": [
    "# Set up the random search with 4-fold cross validation\n",
    "random_cv = RandomizedSearchCV(estimator=regressor,\n",
    "            param_distributions=hyperparameter_grid,\n",
    "            cv=5, n_iter=50,\n",
    "            scoring = 'neg_mean_absolute_error',n_jobs = 4,\n",
    "            verbose = 5, \n",
    "            return_train_score = True,\n",
    "            random_state=42)"
   ]
  },
  {
   "cell_type": "code",
   "execution_count": null,
   "metadata": {},
   "outputs": [],
   "source": [
    "random_cv.fit(X_train,y_train)"
   ]
  },
  {
   "cell_type": "code",
   "execution_count": null,
   "metadata": {},
   "outputs": [],
   "source": [
    "random_cv.best_estimator_"
   ]
  },
  {
   "cell_type": "code",
   "execution_count": null,
   "metadata": {},
   "outputs": [],
   "source": [
    "random_cv.best_estimator_"
   ]
  },
  {
   "cell_type": "code",
   "execution_count": null,
   "metadata": {},
   "outputs": [],
   "source": [
    "regressor=xgboost.XGBRegressor(base_score=0.25, booster='gbtree', colsample_bylevel=1,\n",
    "       colsample_bytree=1, gamma=0, learning_rate=0.1, max_delta_step=0,\n",
    "       max_depth=2, min_child_weight=1, missing=None, n_estimators=900,\n",
    "       n_jobs=1, nthread=None, objective='reg:linear', random_state=0,\n",
    "       reg_alpha=0, reg_lambda=1, scale_pos_weight=1, seed=None,\n",
    "       silent=True, subsample=1)"
   ]
  },
  {
   "cell_type": "code",
   "execution_count": null,
   "metadata": {},
   "outputs": [],
   "source": [
    "regressor.fit(X_train,y_train)"
   ]
  },
  {
   "cell_type": "code",
   "execution_count": null,
   "metadata": {},
   "outputs": [],
   "source": [
    "#storing the model in pickle file\n",
    "import pickle\n",
    "filename = 'finalized_model.pkl'\n",
    "pickle.dump(classifier, open(filename, 'wb'))"
   ]
  },
  {
   "cell_type": "code",
   "execution_count": null,
   "metadata": {},
   "outputs": [],
   "source": [
    "# predicting y values using the model\n",
    "y_pred=regressor.predict(X)"
   ]
  },
  {
   "cell_type": "code",
   "execution_count": null,
   "metadata": {},
   "outputs": [],
   "source": [
    "y_pred"
   ]
  },
  {
   "cell_type": "code",
   "execution_count": null,
   "metadata": {},
   "outputs": [],
   "source": [
    "# creating data frame from predicted data\n",
    "z=pd.DataFrame(y_pred)\n",
    "z.rename(columns={0:'EQ_pred'}, inplace=True)"
   ]
  },
  {
   "cell_type": "code",
   "execution_count": null,
   "metadata": {},
   "outputs": [],
   "source": [
    "z.head()"
   ]
  },
  {
   "cell_type": "markdown",
   "metadata": {},
   "source": [
    "## Cacularing R score"
   ]
  },
  {
   "cell_type": "code",
   "execution_count": null,
   "metadata": {},
   "outputs": [],
   "source": [
    "from sklearn.metrics import mean_squared_error\n",
    "from math import sqrt\n",
    "\n",
    "rms = np.sqrt(mean_squared_error(y, v))\n",
    "print(rms)"
   ]
  },
  {
   "cell_type": "code",
   "execution_count": null,
   "metadata": {},
   "outputs": [],
   "source": [
    "w.head()"
   ]
  },
  {
   "cell_type": "code",
   "execution_count": null,
   "metadata": {},
   "outputs": [],
   "source": [
    "com=pd.concat([w,z],axis=1)"
   ]
  },
  {
   "cell_type": "code",
   "execution_count": null,
   "metadata": {
    "scrolled": false
   },
   "outputs": [],
   "source": [
    "com.head(20)"
   ]
  },
  {
   "cell_type": "code",
   "execution_count": null,
   "metadata": {},
   "outputs": [],
   "source": [
    "rss=com.iloc[0]['EQ']\n",
    "\n"
   ]
  },
  {
   "cell_type": "code",
   "execution_count": null,
   "metadata": {},
   "outputs": [],
   "source": [
    "rss=0\n",
    "tss=0\n",
    "avg=(com['EQ'].sum())/len(com)\n",
    "for i in range(0,len(com)):\n",
    "    rss+=(com.iloc[i]['EQ']-com.iloc[i]['EQ_pred'])**2\n",
    "    \n",
    "for i in range(0,len(com)):\n",
    "    tss+=(com.iloc[i]['EQ']-avg)**2\n",
    "    \n",
    "RMSE=1-rss/tss"
   ]
  },
  {
   "cell_type": "code",
   "execution_count": null,
   "metadata": {
    "scrolled": true
   },
   "outputs": [],
   "source": [
    "print('RMSE=',RMSE)"
   ]
  }
 ],
 "metadata": {
  "kernelspec": {
   "display_name": "Python 3",
   "language": "python",
   "name": "python3"
  },
  "language_info": {
   "codemirror_mode": {
    "name": "ipython",
    "version": 3
   },
   "file_extension": ".py",
   "mimetype": "text/x-python",
   "name": "python",
   "nbconvert_exporter": "python",
   "pygments_lexer": "ipython3",
   "version": "3.7.4"
  }
 },
 "nbformat": 4,
 "nbformat_minor": 2
}
